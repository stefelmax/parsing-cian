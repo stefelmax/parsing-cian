{
  "nbformat": 4,
  "nbformat_minor": 0,
  "metadata": {
    "colab": {
      "name": "Pandas #1. Домашнее задание. Ultra-Pro. Университет Искусственного Интеллекта.ipynb",
      "provenance": [],
      "collapsed_sections": [],
      "include_colab_link": true
    },
    "kernelspec": {
      "name": "python3",
      "display_name": "Python 3"
    }
  },
  "cells": [
    {
      "cell_type": "markdown",
      "metadata": {
        "id": "view-in-github",
        "colab_type": "text"
      },
      "source": [
        "<a href=\"https://colab.research.google.com/github/stefelmax/parsing-cian/blob/master/Pandas_1_%D0%94%D0%BE%D0%BC%D0%B0%D1%88%D0%BD%D0%B5%D0%B5_%D0%B7%D0%B0%D0%B4%D0%B0%D0%BD%D0%B8%D0%B5_Ultra_Pro_%D0%A3%D0%BD%D0%B8%D0%B2%D0%B5%D1%80%D1%81%D0%B8%D1%82%D0%B5%D1%82_%D0%98%D1%81%D0%BA%D1%83%D1%81%D1%81%D1%82%D0%B2%D0%B5%D0%BD%D0%BD%D0%BE%D0%B3%D0%BE_%D0%98%D0%BD%D1%82%D0%B5%D0%BB%D0%BB%D0%B5%D0%BA%D1%82%D0%B0.ipynb\" target=\"_parent\"><img src=\"https://colab.research.google.com/assets/colab-badge.svg\" alt=\"Open In Colab\"/></a>"
      ]
    },
    {
      "cell_type": "markdown",
      "metadata": {
        "id": "UMD5R8StOlOq"
      },
      "source": [
        "# Pandas часть 1. Домашнее Задание. Ultra pro\n",
        "\n",
        "*2 балла за каждую задачу*"
      ]
    },
    {
      "cell_type": "markdown",
      "metadata": {
        "id": "2cI6UlojpNPn"
      },
      "source": [
        "Представим ситуацию: Вы заказали базу у фрилансеров. Им необходимо было скачать с сайтов двух отелей анонимную базу данных обо всех клиентах. Фрилансеры выполнили заказ и прислали работу. Как оказалось, исходные данные очень загрязнены (пустыми колонками, неинформативными строками и т. д.), да еще и представлены в виде нескольких различных файлов. Главная задача на всё ДЗ - очистить базу и сохранить в виде одного документа."
      ]
    },
    {
      "cell_type": "markdown",
      "metadata": {
        "id": "H3NGFYX111of"
      },
      "source": [
        "Ссылка на файлы: \n",
        "https://drive.google.com/drive/folders/12aykvz02214Q_7eNMm3loXzOIDXfeZ4b?usp=sharing\n",
        "\n",
        "Лучше сохранить на свой Google Диск"
      ]
    },
    {
      "cell_type": "markdown",
      "metadata": {
        "id": "xpelBtBBoNbH"
      },
      "source": [
        "### Задание 1\n",
        "*(2 балла)*\n"
      ]
    },
    {
      "cell_type": "markdown",
      "metadata": {
        "id": "sHYwZleXpBzE"
      },
      "source": [
        "Подключите Google Drive.\n",
        "\n",
        "Откройте папку с файлами и сохраните каждый из них в виде Pandas DataFrame. \n",
        "\n",
        "**Подсказка 1**: получить список имен файлов можно при помощи библиотеки os, командой os.listdir (путь к папке с файлами). \n",
        "\n",
        "**Подсказка 2**: для сохранения всех файлов в виде Pandas DataFrame удобно использовать одну из структур данных Python.\n",
        "\n",
        "Объедините все Pandas DataFrame в один."
      ]
    },
    {
      "cell_type": "markdown",
      "metadata": {
        "id": "XEhUp6r1qP_f"
      },
      "source": [
        "**Решение:**"
      ]
    },
    {
      "cell_type": "code",
      "metadata": {
        "id": "t5KKdsuVzVJA"
      },
      "source": [
        ""
      ],
      "execution_count": null,
      "outputs": []
    },
    {
      "cell_type": "markdown",
      "metadata": {
        "id": "3EhpzR3vrasF"
      },
      "source": [
        "### Задание 2\n",
        "*(2 балла)*\n",
        "\n",
        "Хорошо бы понимать, с какими данными мы работаем. \n",
        "\n",
        "Узнайте размерность получившегося DataFrame (число столбцов и число строк).\n",
        "\n",
        "Проверьте, выведя график, есть ли пропуски в данных. Оцените, насколько их много."
      ]
    },
    {
      "cell_type": "markdown",
      "metadata": {
        "id": "vvMEBPquy-jc"
      },
      "source": [
        "**Решение:**"
      ]
    },
    {
      "cell_type": "code",
      "metadata": {
        "id": "Y5fl0Ju4zYG-"
      },
      "source": [
        ""
      ],
      "execution_count": null,
      "outputs": []
    },
    {
      "cell_type": "markdown",
      "metadata": {
        "id": "lAOsZ3Dar00C"
      },
      "source": [
        "### Задание 3\n",
        "*(2 балла)*"
      ]
    },
    {
      "cell_type": "markdown",
      "metadata": {
        "id": "5y_WVXBLr6NH"
      },
      "source": [
        "Основываясь на выводах из предыдущего задания, очистите данные от пропусков.\n",
        "\n",
        "**Подсказка**: очевидно, что есть полностью пустые столбцы, неинформативные строки с одним лишь значением \"For notes:\", пустая часть датасета внизу. После этих преобразований могут остаться пустые значения в датасете с хаотичным расположением (это допускается).\n",
        "\n",
        "Если остались пропуски, заполните их словом \"unknown\"."
      ]
    },
    {
      "cell_type": "markdown",
      "metadata": {
        "id": "cVMGu9Cty_OM"
      },
      "source": [
        "**Решение:**"
      ]
    },
    {
      "cell_type": "code",
      "metadata": {
        "id": "HVinvCiYzZ9a"
      },
      "source": [
        ""
      ],
      "execution_count": null,
      "outputs": []
    },
    {
      "cell_type": "markdown",
      "metadata": {
        "id": "rXJSEszGwQBY"
      },
      "source": [
        "### Задание 4\n",
        "*(2 балла)*\n",
        "\n",
        "Необходимо посмотреть, сколько всего записей есть в столбце 'lead_time' по каждому отелю, за каждый год и каждый месяц каждого года.\n",
        "\n",
        "**Подсказка**: примените метод groupby для столбцов 'hotel', 'arrival_date_year', 'arrival_date_month'."
      ]
    },
    {
      "cell_type": "markdown",
      "metadata": {
        "id": "J3Qk0t34zApQ"
      },
      "source": [
        "**Решение:**"
      ]
    },
    {
      "cell_type": "code",
      "metadata": {
        "id": "Sz83l6auzb63"
      },
      "source": [
        ""
      ],
      "execution_count": null,
      "outputs": []
    },
    {
      "cell_type": "markdown",
      "metadata": {
        "id": "8cOfyRSjybMo"
      },
      "source": [
        "### Задание 5\n",
        "*(2 балла)*\n",
        "\n",
        "Узнайте размерность получившегося DataFrame (число столбцов и число строк).\n",
        "\n",
        "Сохраните получившийся DataFrame в одном файле."
      ]
    },
    {
      "cell_type": "markdown",
      "metadata": {
        "id": "OhtV6UTXzBEz"
      },
      "source": [
        "**Решение:**"
      ]
    },
    {
      "cell_type": "code",
      "metadata": {
        "id": "LEx4T9q-zcta"
      },
      "source": [
        ""
      ],
      "execution_count": null,
      "outputs": []
    }
  ]
}